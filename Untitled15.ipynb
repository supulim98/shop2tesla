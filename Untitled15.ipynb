{
  "nbformat": 4,
  "nbformat_minor": 0,
  "metadata": {
    "colab": {
      "name": "Untitled15.ipynb",
      "provenance": [],
      "collapsed_sections": [],
      "authorship_tag": "ABX9TyOYzzOyB7YjkEQIJBuuM65G",
      "include_colab_link": true
    },
    "kernelspec": {
      "name": "python3",
      "display_name": "Python 3"
    },
    "language_info": {
      "name": "python"
    }
  },
  "cells": [
    {
      "cell_type": "markdown",
      "metadata": {
        "id": "view-in-github",
        "colab_type": "text"
      },
      "source": [
        "<a href=\"https://colab.research.google.com/github/supulim98/shop2tesla/blob/main/Untitled15.ipynb\" target=\"_parent\"><img src=\"https://colab.research.google.com/assets/colab-badge.svg\" alt=\"Open In Colab\"/></a>"
      ]
    },
    {
      "cell_type": "code",
      "metadata": {
        "colab": {
          "base_uri": "https://localhost:8080/"
        },
        "id": "vnbdW5EO2mGO",
        "outputId": "b8ddd8eb-626d-4401-965d-ef41de7eb335"
      },
      "source": [
        "import pandas as pd\n",
        "\n",
        "data=pd.read_csv('train2.csv', encoding='utf-8')\n",
        "\n",
        "start=\"2016-01-01\"\n",
        "end=\"2016-01-06\"\n",
        "\n",
        "df1 = pd.DataFrame(data[['date', \"배추_가격(원/kg)\"]][:10])\n",
        "\n",
        "very = df1.index[df1[\"date\"] == start].tolist()[0]\n",
        "good = df1.index[df1[\"date\"] == end].tolist()[0]\n",
        "\n",
        "frame = df1.iloc[very:(good+1)]\n",
        "very"
      ],
      "execution_count": 65,
      "outputs": [
        {
          "output_type": "execute_result",
          "data": {
            "text/plain": [
              "0"
            ]
          },
          "metadata": {},
          "execution_count": 65
        }
      ]
    },
    {
      "cell_type": "code",
      "metadata": {
        "id": "I3ebrXz7ciMH"
      },
      "source": [
        "def dat_data(a):\n",
        "  start1=str(a)\n",
        "  very = df1.index[df1[\"date\"] == start1].tolist()[0]\n",
        "  return very\n"
      ],
      "execution_count": null,
      "outputs": []
    },
    {
      "cell_type": "code",
      "metadata": {
        "colab": {
          "base_uri": "https://localhost:8080/"
        },
        "id": "rlf9mf9IR62F",
        "outputId": "81ecbc38-2af1-4ee3-b23c-8ceefeef6000"
      },
      "source": [
        "very[0]"
      ],
      "execution_count": 56,
      "outputs": [
        {
          "output_type": "execute_result",
          "data": {
            "text/plain": [
              "0"
            ]
          },
          "metadata": {},
          "execution_count": 56
        }
      ]
    }
  ]
}